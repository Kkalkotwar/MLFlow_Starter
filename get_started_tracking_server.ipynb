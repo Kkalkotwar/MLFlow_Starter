{
 "cells": [
  {
   "cell_type": "markdown",
   "id": "7a4b68ce",
   "metadata": {},
   "source": [
    "## MLFlow Experiment Tracking Server"
   ]
  },
  {
   "cell_type": "code",
   "execution_count": 1,
   "id": "dc5c30f0",
   "metadata": {},
   "outputs": [],
   "source": [
    "import mlflow\n"
   ]
  },
  {
   "cell_type": "code",
   "execution_count": 2,
   "id": "8f44fe3c",
   "metadata": {},
   "outputs": [],
   "source": [
    "# This sets the tracking URI to the MLflow server, need to be set after initialization of code from terminal.\n",
    "mlflow.set_tracking_uri(\"http://127.0.0.1:5000\")"
   ]
  },
  {
   "cell_type": "code",
   "execution_count": 3,
   "id": "1943b015",
   "metadata": {},
   "outputs": [
    {
     "name": "stderr",
     "output_type": "stream",
     "text": [
      "2025/09/01 22:56:32 INFO mlflow.tracking.fluent: Experiment with name 'Check Localhost Connection1' does not exist. Creating a new experiment.\n"
     ]
    },
    {
     "name": "stdout",
     "output_type": "stream",
     "text": [
      "🏃 View run adaptable-duck-710 at: http://127.0.0.1:5000/#/experiments/551976365567589877/runs/ccae65747f6a4978a002d9685ff478eb\n",
      "🧪 View experiment at: http://127.0.0.1:5000/#/experiments/551976365567589877\n"
     ]
    }
   ],
   "source": [
    "# This is the setting of the experiment name with some basic test metrics.\n",
    "\n",
    "mlflow.set_experiment(\"Check Localhost Connection1\")\n",
    "\n",
    "\n",
    "with mlflow.start_run():\n",
    "    mlflow.log_metric(\"test\",1)\n",
    "    mlflow.log_metric(\"Kunal\", 2)"
   ]
  },
  {
   "cell_type": "code",
   "execution_count": 4,
   "id": "e245832b",
   "metadata": {},
   "outputs": [
    {
     "name": "stderr",
     "output_type": "stream",
     "text": [
      "2025/09/01 22:56:50 INFO mlflow.tracking.fluent: Experiment with name 'Check Localhost Connection2' does not exist. Creating a new experiment.\n"
     ]
    },
    {
     "name": "stdout",
     "output_type": "stream",
     "text": [
      "🏃 View run rumbling-foal-916 at: http://127.0.0.1:5000/#/experiments/449760624080477182/runs/2ff5bd8f91f2426a9ce6de2cc2a09a46\n",
      "🧪 View experiment at: http://127.0.0.1:5000/#/experiments/449760624080477182\n"
     ]
    }
   ],
   "source": [
    "mlflow.set_experiment(\"Check Localhost Connection2\")\n",
    "\n",
    "\n",
    "with mlflow.start_run():\n",
    "    mlflow.log_metric(\"test2\",1)\n",
    "    mlflow.log_metric(\"Kunal.kalkotwar\", 2)"
   ]
  },
  {
   "cell_type": "code",
   "execution_count": null,
   "id": "826ef8e6",
   "metadata": {},
   "outputs": [],
   "source": []
  }
 ],
 "metadata": {
  "kernelspec": {
   "display_name": ".venv (3.11.2)",
   "language": "python",
   "name": "python3"
  },
  "language_info": {
   "codemirror_mode": {
    "name": "ipython",
    "version": 3
   },
   "file_extension": ".py",
   "mimetype": "text/x-python",
   "name": "python",
   "nbconvert_exporter": "python",
   "pygments_lexer": "ipython3",
   "version": "3.11.2"
  }
 },
 "nbformat": 4,
 "nbformat_minor": 5
}
