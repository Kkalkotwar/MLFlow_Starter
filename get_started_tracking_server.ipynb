{
 "cells": [
  {
   "cell_type": "markdown",
   "id": "7a4b68ce",
   "metadata": {},
   "source": [
    "## MLFlow Experiment Tracking Server"
   ]
  },
  {
   "cell_type": "code",
   "execution_count": 1,
   "id": "dc5c30f0",
   "metadata": {},
   "outputs": [],
   "source": [
    "import mlflow\n"
   ]
  },
  {
   "cell_type": "code",
   "execution_count": null,
   "id": "8f44fe3c",
   "metadata": {},
   "outputs": [],
   "source": [
    "# This sets the tracking URI to the MLflow server, need to be set after initialization of code from terminal.\n",
    "mlflow.set_tracking_uri(\"http://127.0.0.1:5000\")"
   ]
  },
  {
   "cell_type": "code",
   "execution_count": null,
   "id": "1943b015",
   "metadata": {},
   "outputs": [
    {
     "name": "stdout",
     "output_type": "stream",
     "text": [
      "🏃 View run clumsy-mole-153 at: http://127.0.0.1:5000/#/experiments/629228703753848832/runs/4c3a1283678e44ffbf841c2259ea0eff\n",
      "🧪 View experiment at: http://127.0.0.1:5000/#/experiments/629228703753848832\n"
     ]
    }
   ],
   "source": [
    "# This is the setting of the experiment name with some basic test metrics.\n",
    "\n",
    "mlflow.set_experiment(\"Check Localhost Connection\")\n",
    "\n",
    "\n",
    "with mlflow.start_run():\n",
    "    mlflow.log_metric(\"test\",1)\n",
    "    mlflow.log_metric(\"Kunal\", 2)"
   ]
  },
  {
   "cell_type": "code",
   "execution_count": 5,
   "id": "e245832b",
   "metadata": {},
   "outputs": [
    {
     "name": "stdout",
     "output_type": "stream",
     "text": [
      "🏃 View run rebellious-elk-242 at: http://127.0.0.1:5000/#/experiments/629228703753848832/runs/63767433886446cf8dd8c039a235d95a\n",
      "🧪 View experiment at: http://127.0.0.1:5000/#/experiments/629228703753848832\n"
     ]
    }
   ],
   "source": [
    "mlflow.set_experiment(\"Check Localhost Connection\")\n",
    "\n",
    "\n",
    "with mlflow.start_run():\n",
    "    mlflow.log_metric(\"test2\",1)\n",
    "    mlflow.log_metric(\"Kunal.kalkotwar\", 2)"
   ]
  },
  {
   "cell_type": "code",
   "execution_count": null,
   "id": "826ef8e6",
   "metadata": {},
   "outputs": [],
   "source": []
  }
 ],
 "metadata": {
  "kernelspec": {
   "display_name": ".venv (3.11.2)",
   "language": "python",
   "name": "python3"
  },
  "language_info": {
   "codemirror_mode": {
    "name": "ipython",
    "version": 3
   },
   "file_extension": ".py",
   "mimetype": "text/x-python",
   "name": "python",
   "nbconvert_exporter": "python",
   "pygments_lexer": "ipython3",
   "version": "3.11.2"
  }
 },
 "nbformat": 4,
 "nbformat_minor": 5
}
