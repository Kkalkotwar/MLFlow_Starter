{
 "cells": [
  {
   "cell_type": "markdown",
   "id": "20f20c2d",
   "metadata": {},
   "source": [
    "### Quickstart: Compare runs, choose a model, and deploy it it a REST API\n",
    "\n",
    "In this quickstart, we will:\n",
    "\n",
    "- Run a hyperparameter sweep on the training script\n",
    "- Compart the results of the runs in the MLflow UI\n",
    "- Choose the best run and register it as a model UI\n",
    "- Deploy the model to a REST API\n",
    "- Build a container image suitable for deployment to a cloud platform."
   ]
  },
  {
   "cell_type": "code",
   "execution_count": 1,
   "id": "853c1ba4",
   "metadata": {},
   "outputs": [],
   "source": [
    "import keras\n",
    "import numpy as np\n",
    "import pandas as pd\n",
    "\n",
    "from hyperopt import STATUS_OK,Trials,fmin,hp,tpe\n",
    "\n",
    "from sklearn.metrics import mean_absolute_error\n",
    "from sklearn.model_selection import train_test_split\n",
    "\n",
    "import mlflow\n",
    "from mlflow.models import infer_signature"
   ]
  },
  {
   "cell_type": "code",
   "execution_count": 2,
   "id": "6d3118d4",
   "metadata": {},
   "outputs": [
    {
     "data": {
      "application/vnd.microsoft.datawrangler.viewer.v0+json": {
       "columns": [
        {
         "name": "index",
         "rawType": "int64",
         "type": "integer"
        },
        {
         "name": "fixed acidity",
         "rawType": "float64",
         "type": "float"
        },
        {
         "name": "volatile acidity",
         "rawType": "float64",
         "type": "float"
        },
        {
         "name": "citric acid",
         "rawType": "float64",
         "type": "float"
        },
        {
         "name": "residual sugar",
         "rawType": "float64",
         "type": "float"
        },
        {
         "name": "chlorides",
         "rawType": "float64",
         "type": "float"
        },
        {
         "name": "free sulfur dioxide",
         "rawType": "float64",
         "type": "float"
        },
        {
         "name": "total sulfur dioxide",
         "rawType": "float64",
         "type": "float"
        },
        {
         "name": "density",
         "rawType": "float64",
         "type": "float"
        },
        {
         "name": "pH",
         "rawType": "float64",
         "type": "float"
        },
        {
         "name": "sulphates",
         "rawType": "float64",
         "type": "float"
        },
        {
         "name": "alcohol",
         "rawType": "float64",
         "type": "float"
        },
        {
         "name": "quality",
         "rawType": "int64",
         "type": "integer"
        }
       ],
       "ref": "d3bea518-3638-48be-b3b0-aa04c7a077dc",
       "rows": [
        [
         "0",
         "7.0",
         "0.27",
         "0.36",
         "20.7",
         "0.045",
         "45.0",
         "170.0",
         "1.001",
         "3.0",
         "0.45",
         "8.8",
         "6"
        ],
        [
         "1",
         "6.3",
         "0.3",
         "0.34",
         "1.6",
         "0.049",
         "14.0",
         "132.0",
         "0.994",
         "3.3",
         "0.49",
         "9.5",
         "6"
        ],
        [
         "2",
         "8.1",
         "0.28",
         "0.4",
         "6.9",
         "0.05",
         "30.0",
         "97.0",
         "0.9951",
         "3.26",
         "0.44",
         "10.1",
         "6"
        ],
        [
         "3",
         "7.2",
         "0.23",
         "0.32",
         "8.5",
         "0.058",
         "47.0",
         "186.0",
         "0.9956",
         "3.19",
         "0.4",
         "9.9",
         "6"
        ],
        [
         "4",
         "7.2",
         "0.23",
         "0.32",
         "8.5",
         "0.058",
         "47.0",
         "186.0",
         "0.9956",
         "3.19",
         "0.4",
         "9.9",
         "6"
        ],
        [
         "5",
         "8.1",
         "0.28",
         "0.4",
         "6.9",
         "0.05",
         "30.0",
         "97.0",
         "0.9951",
         "3.26",
         "0.44",
         "10.1",
         "6"
        ],
        [
         "6",
         "6.2",
         "0.32",
         "0.16",
         "7.0",
         "0.045",
         "30.0",
         "136.0",
         "0.9949",
         "3.18",
         "0.47",
         "9.6",
         "6"
        ],
        [
         "7",
         "7.0",
         "0.27",
         "0.36",
         "20.7",
         "0.045",
         "45.0",
         "170.0",
         "1.001",
         "3.0",
         "0.45",
         "8.8",
         "6"
        ],
        [
         "8",
         "6.3",
         "0.3",
         "0.34",
         "1.6",
         "0.049",
         "14.0",
         "132.0",
         "0.994",
         "3.3",
         "0.49",
         "9.5",
         "6"
        ],
        [
         "9",
         "8.1",
         "0.22",
         "0.43",
         "1.5",
         "0.044",
         "28.0",
         "129.0",
         "0.9938",
         "3.22",
         "0.45",
         "11.0",
         "6"
        ],
        [
         "10",
         "8.1",
         "0.27",
         "0.41",
         "1.45",
         "0.033",
         "11.0",
         "63.0",
         "0.9908",
         "2.99",
         "0.56",
         "12.0",
         "5"
        ],
        [
         "11",
         "8.6",
         "0.23",
         "0.4",
         "4.2",
         "0.035",
         "17.0",
         "109.0",
         "0.9947",
         "3.14",
         "0.53",
         "9.7",
         "5"
        ],
        [
         "12",
         "7.9",
         "0.18",
         "0.37",
         "1.2",
         "0.04",
         "16.0",
         "75.0",
         "0.992",
         "3.18",
         "0.63",
         "10.8",
         "5"
        ],
        [
         "13",
         "6.6",
         "0.16",
         "0.4",
         "1.5",
         "0.044",
         "48.0",
         "143.0",
         "0.9912",
         "3.54",
         "0.52",
         "12.4",
         "7"
        ],
        [
         "14",
         "8.3",
         "0.42",
         "0.62",
         "19.25",
         "0.04",
         "41.0",
         "172.0",
         "1.0002",
         "2.98",
         "0.67",
         "9.7",
         "5"
        ],
        [
         "15",
         "6.6",
         "0.17",
         "0.38",
         "1.5",
         "0.032",
         "28.0",
         "112.0",
         "0.9914",
         "3.25",
         "0.55",
         "11.4",
         "7"
        ],
        [
         "16",
         "6.3",
         "0.48",
         "0.04",
         "1.1",
         "0.046",
         "30.0",
         "99.0",
         "0.9928",
         "3.24",
         "0.36",
         "9.6",
         "6"
        ],
        [
         "17",
         "6.2",
         "0.66",
         "0.48",
         "1.2",
         "0.029",
         "29.0",
         "75.0",
         "0.9892",
         "3.33",
         "0.39",
         "12.8",
         "8"
        ],
        [
         "18",
         "7.4",
         "0.34",
         "0.42",
         "1.1",
         "0.033",
         "17.0",
         "171.0",
         "0.9917",
         "3.12",
         "0.53",
         "11.3",
         "6"
        ],
        [
         "19",
         "6.5",
         "0.31",
         "0.14",
         "7.5",
         "0.044",
         "34.0",
         "133.0",
         "0.9955",
         "3.22",
         "0.5",
         "9.5",
         "5"
        ],
        [
         "20",
         "6.2",
         "0.66",
         "0.48",
         "1.2",
         "0.029",
         "29.0",
         "75.0",
         "0.9892",
         "3.33",
         "0.39",
         "12.8",
         "8"
        ],
        [
         "21",
         "6.4",
         "0.31",
         "0.38",
         "2.9",
         "0.038",
         "19.0",
         "102.0",
         "0.9912",
         "3.17",
         "0.35",
         "11.0",
         "7"
        ],
        [
         "22",
         "6.8",
         "0.26",
         "0.42",
         "1.7",
         "0.049",
         "41.0",
         "122.0",
         "0.993",
         "3.47",
         "0.48",
         "10.5",
         "8"
        ],
        [
         "23",
         "7.6",
         "0.67",
         "0.14",
         "1.5",
         "0.074",
         "25.0",
         "168.0",
         "0.9937",
         "3.05",
         "0.51",
         "9.3",
         "5"
        ],
        [
         "24",
         "6.6",
         "0.27",
         "0.41",
         "1.3",
         "0.052",
         "16.0",
         "142.0",
         "0.9951",
         "3.42",
         "0.47",
         "10.0",
         "6"
        ],
        [
         "25",
         "7.0",
         "0.25",
         "0.32",
         "9.0",
         "0.046",
         "56.0",
         "245.0",
         "0.9955",
         "3.25",
         "0.5",
         "10.4",
         "6"
        ],
        [
         "26",
         "6.9",
         "0.24",
         "0.35",
         "1.0",
         "0.052",
         "35.0",
         "146.0",
         "0.993",
         "3.45",
         "0.44",
         "10.0",
         "6"
        ],
        [
         "27",
         "7.0",
         "0.28",
         "0.39",
         "8.7",
         "0.051",
         "32.0",
         "141.0",
         "0.9961",
         "3.38",
         "0.53",
         "10.5",
         "6"
        ],
        [
         "28",
         "7.4",
         "0.27",
         "0.48",
         "1.1",
         "0.047",
         "17.0",
         "132.0",
         "0.9914",
         "3.19",
         "0.49",
         "11.6",
         "6"
        ],
        [
         "29",
         "7.2",
         "0.32",
         "0.36",
         "2.0",
         "0.033",
         "37.0",
         "114.0",
         "0.9906",
         "3.1",
         "0.71",
         "12.3",
         "7"
        ],
        [
         "30",
         "8.5",
         "0.24",
         "0.39",
         "10.4",
         "0.044",
         "20.0",
         "142.0",
         "0.9974",
         "3.2",
         "0.53",
         "10.0",
         "6"
        ],
        [
         "31",
         "8.3",
         "0.14",
         "0.34",
         "1.1",
         "0.042",
         "7.0",
         "47.0",
         "0.9934",
         "3.47",
         "0.4",
         "10.2",
         "6"
        ],
        [
         "32",
         "7.4",
         "0.25",
         "0.36",
         "2.05",
         "0.05",
         "31.0",
         "100.0",
         "0.992",
         "3.19",
         "0.44",
         "10.8",
         "6"
        ],
        [
         "33",
         "6.2",
         "0.12",
         "0.34",
         "1.5",
         "0.045",
         "43.0",
         "117.0",
         "0.9939",
         "3.42",
         "0.51",
         "9.0",
         "6"
        ],
        [
         "34",
         "5.8",
         "0.27",
         "0.2",
         "14.95",
         "0.044",
         "22.0",
         "179.0",
         "0.9962",
         "3.37",
         "0.37",
         "10.2",
         "5"
        ],
        [
         "35",
         "7.3",
         "0.28",
         "0.43",
         "1.7",
         "0.08",
         "21.0",
         "123.0",
         "0.9905",
         "3.19",
         "0.42",
         "12.8",
         "5"
        ],
        [
         "36",
         "6.5",
         "0.39",
         "0.23",
         "5.4",
         "0.051",
         "25.0",
         "149.0",
         "0.9934",
         "3.24",
         "0.35",
         "10.0",
         "5"
        ],
        [
         "37",
         "7.0",
         "0.33",
         "0.32",
         "1.2",
         "0.053",
         "38.0",
         "138.0",
         "0.9906",
         "3.13",
         "0.28",
         "11.2",
         "6"
        ],
        [
         "38",
         "7.3",
         "0.24",
         "0.39",
         "17.95",
         "0.057",
         "45.0",
         "149.0",
         "0.9999",
         "3.21",
         "0.36",
         "8.6",
         "5"
        ],
        [
         "39",
         "7.3",
         "0.24",
         "0.39",
         "17.95",
         "0.057",
         "45.0",
         "149.0",
         "0.9999",
         "3.21",
         "0.36",
         "8.6",
         "5"
        ],
        [
         "40",
         "6.7",
         "0.23",
         "0.39",
         "2.5",
         "0.172",
         "63.0",
         "158.0",
         "0.9937",
         "3.11",
         "0.36",
         "9.4",
         "6"
        ],
        [
         "41",
         "6.7",
         "0.24",
         "0.39",
         "2.9",
         "0.173",
         "63.0",
         "157.0",
         "0.9937",
         "3.1",
         "0.34",
         "9.4",
         "6"
        ],
        [
         "42",
         "7.0",
         "0.31",
         "0.26",
         "7.4",
         "0.069",
         "28.0",
         "160.0",
         "0.9954",
         "3.13",
         "0.46",
         "9.8",
         "6"
        ],
        [
         "43",
         "6.6",
         "0.24",
         "0.27",
         "1.4",
         "0.057",
         "33.0",
         "152.0",
         "0.9934",
         "3.22",
         "0.56",
         "9.5",
         "6"
        ],
        [
         "44",
         "6.7",
         "0.23",
         "0.26",
         "1.4",
         "0.06",
         "33.0",
         "154.0",
         "0.9934",
         "3.24",
         "0.56",
         "9.5",
         "6"
        ],
        [
         "45",
         "7.4",
         "0.18",
         "0.31",
         "1.4",
         "0.058",
         "38.0",
         "167.0",
         "0.9931",
         "3.16",
         "0.53",
         "10.0",
         "7"
        ],
        [
         "46",
         "6.2",
         "0.45",
         "0.26",
         "4.4",
         "0.063",
         "63.0",
         "206.0",
         "0.994",
         "3.27",
         "0.52",
         "9.8",
         "4"
        ],
        [
         "47",
         "6.2",
         "0.46",
         "0.25",
         "4.4",
         "0.066",
         "62.0",
         "207.0",
         "0.9939",
         "3.25",
         "0.52",
         "9.8",
         "5"
        ],
        [
         "48",
         "7.0",
         "0.31",
         "0.26",
         "7.4",
         "0.069",
         "28.0",
         "160.0",
         "0.9954",
         "3.13",
         "0.46",
         "9.8",
         "6"
        ],
        [
         "49",
         "6.9",
         "0.19",
         "0.35",
         "5.0",
         "0.067",
         "32.0",
         "150.0",
         "0.995",
         "3.36",
         "0.48",
         "9.8",
         "5"
        ]
       ],
       "shape": {
        "columns": 12,
        "rows": 4898
       }
      },
      "text/html": [
       "<div>\n",
       "<style scoped>\n",
       "    .dataframe tbody tr th:only-of-type {\n",
       "        vertical-align: middle;\n",
       "    }\n",
       "\n",
       "    .dataframe tbody tr th {\n",
       "        vertical-align: top;\n",
       "    }\n",
       "\n",
       "    .dataframe thead th {\n",
       "        text-align: right;\n",
       "    }\n",
       "</style>\n",
       "<table border=\"1\" class=\"dataframe\">\n",
       "  <thead>\n",
       "    <tr style=\"text-align: right;\">\n",
       "      <th></th>\n",
       "      <th>fixed acidity</th>\n",
       "      <th>volatile acidity</th>\n",
       "      <th>citric acid</th>\n",
       "      <th>residual sugar</th>\n",
       "      <th>chlorides</th>\n",
       "      <th>free sulfur dioxide</th>\n",
       "      <th>total sulfur dioxide</th>\n",
       "      <th>density</th>\n",
       "      <th>pH</th>\n",
       "      <th>sulphates</th>\n",
       "      <th>alcohol</th>\n",
       "      <th>quality</th>\n",
       "    </tr>\n",
       "  </thead>\n",
       "  <tbody>\n",
       "    <tr>\n",
       "      <th>0</th>\n",
       "      <td>7.0</td>\n",
       "      <td>0.27</td>\n",
       "      <td>0.36</td>\n",
       "      <td>20.7</td>\n",
       "      <td>0.045</td>\n",
       "      <td>45.0</td>\n",
       "      <td>170.0</td>\n",
       "      <td>1.00100</td>\n",
       "      <td>3.00</td>\n",
       "      <td>0.45</td>\n",
       "      <td>8.8</td>\n",
       "      <td>6</td>\n",
       "    </tr>\n",
       "    <tr>\n",
       "      <th>1</th>\n",
       "      <td>6.3</td>\n",
       "      <td>0.30</td>\n",
       "      <td>0.34</td>\n",
       "      <td>1.6</td>\n",
       "      <td>0.049</td>\n",
       "      <td>14.0</td>\n",
       "      <td>132.0</td>\n",
       "      <td>0.99400</td>\n",
       "      <td>3.30</td>\n",
       "      <td>0.49</td>\n",
       "      <td>9.5</td>\n",
       "      <td>6</td>\n",
       "    </tr>\n",
       "    <tr>\n",
       "      <th>2</th>\n",
       "      <td>8.1</td>\n",
       "      <td>0.28</td>\n",
       "      <td>0.40</td>\n",
       "      <td>6.9</td>\n",
       "      <td>0.050</td>\n",
       "      <td>30.0</td>\n",
       "      <td>97.0</td>\n",
       "      <td>0.99510</td>\n",
       "      <td>3.26</td>\n",
       "      <td>0.44</td>\n",
       "      <td>10.1</td>\n",
       "      <td>6</td>\n",
       "    </tr>\n",
       "    <tr>\n",
       "      <th>3</th>\n",
       "      <td>7.2</td>\n",
       "      <td>0.23</td>\n",
       "      <td>0.32</td>\n",
       "      <td>8.5</td>\n",
       "      <td>0.058</td>\n",
       "      <td>47.0</td>\n",
       "      <td>186.0</td>\n",
       "      <td>0.99560</td>\n",
       "      <td>3.19</td>\n",
       "      <td>0.40</td>\n",
       "      <td>9.9</td>\n",
       "      <td>6</td>\n",
       "    </tr>\n",
       "    <tr>\n",
       "      <th>4</th>\n",
       "      <td>7.2</td>\n",
       "      <td>0.23</td>\n",
       "      <td>0.32</td>\n",
       "      <td>8.5</td>\n",
       "      <td>0.058</td>\n",
       "      <td>47.0</td>\n",
       "      <td>186.0</td>\n",
       "      <td>0.99560</td>\n",
       "      <td>3.19</td>\n",
       "      <td>0.40</td>\n",
       "      <td>9.9</td>\n",
       "      <td>6</td>\n",
       "    </tr>\n",
       "    <tr>\n",
       "      <th>...</th>\n",
       "      <td>...</td>\n",
       "      <td>...</td>\n",
       "      <td>...</td>\n",
       "      <td>...</td>\n",
       "      <td>...</td>\n",
       "      <td>...</td>\n",
       "      <td>...</td>\n",
       "      <td>...</td>\n",
       "      <td>...</td>\n",
       "      <td>...</td>\n",
       "      <td>...</td>\n",
       "      <td>...</td>\n",
       "    </tr>\n",
       "    <tr>\n",
       "      <th>4893</th>\n",
       "      <td>6.2</td>\n",
       "      <td>0.21</td>\n",
       "      <td>0.29</td>\n",
       "      <td>1.6</td>\n",
       "      <td>0.039</td>\n",
       "      <td>24.0</td>\n",
       "      <td>92.0</td>\n",
       "      <td>0.99114</td>\n",
       "      <td>3.27</td>\n",
       "      <td>0.50</td>\n",
       "      <td>11.2</td>\n",
       "      <td>6</td>\n",
       "    </tr>\n",
       "    <tr>\n",
       "      <th>4894</th>\n",
       "      <td>6.6</td>\n",
       "      <td>0.32</td>\n",
       "      <td>0.36</td>\n",
       "      <td>8.0</td>\n",
       "      <td>0.047</td>\n",
       "      <td>57.0</td>\n",
       "      <td>168.0</td>\n",
       "      <td>0.99490</td>\n",
       "      <td>3.15</td>\n",
       "      <td>0.46</td>\n",
       "      <td>9.6</td>\n",
       "      <td>5</td>\n",
       "    </tr>\n",
       "    <tr>\n",
       "      <th>4895</th>\n",
       "      <td>6.5</td>\n",
       "      <td>0.24</td>\n",
       "      <td>0.19</td>\n",
       "      <td>1.2</td>\n",
       "      <td>0.041</td>\n",
       "      <td>30.0</td>\n",
       "      <td>111.0</td>\n",
       "      <td>0.99254</td>\n",
       "      <td>2.99</td>\n",
       "      <td>0.46</td>\n",
       "      <td>9.4</td>\n",
       "      <td>6</td>\n",
       "    </tr>\n",
       "    <tr>\n",
       "      <th>4896</th>\n",
       "      <td>5.5</td>\n",
       "      <td>0.29</td>\n",
       "      <td>0.30</td>\n",
       "      <td>1.1</td>\n",
       "      <td>0.022</td>\n",
       "      <td>20.0</td>\n",
       "      <td>110.0</td>\n",
       "      <td>0.98869</td>\n",
       "      <td>3.34</td>\n",
       "      <td>0.38</td>\n",
       "      <td>12.8</td>\n",
       "      <td>7</td>\n",
       "    </tr>\n",
       "    <tr>\n",
       "      <th>4897</th>\n",
       "      <td>6.0</td>\n",
       "      <td>0.21</td>\n",
       "      <td>0.38</td>\n",
       "      <td>0.8</td>\n",
       "      <td>0.020</td>\n",
       "      <td>22.0</td>\n",
       "      <td>98.0</td>\n",
       "      <td>0.98941</td>\n",
       "      <td>3.26</td>\n",
       "      <td>0.32</td>\n",
       "      <td>11.8</td>\n",
       "      <td>6</td>\n",
       "    </tr>\n",
       "  </tbody>\n",
       "</table>\n",
       "<p>4898 rows × 12 columns</p>\n",
       "</div>"
      ],
      "text/plain": [
       "      fixed acidity  volatile acidity  citric acid  residual sugar  chlorides  \\\n",
       "0               7.0              0.27         0.36            20.7      0.045   \n",
       "1               6.3              0.30         0.34             1.6      0.049   \n",
       "2               8.1              0.28         0.40             6.9      0.050   \n",
       "3               7.2              0.23         0.32             8.5      0.058   \n",
       "4               7.2              0.23         0.32             8.5      0.058   \n",
       "...             ...               ...          ...             ...        ...   \n",
       "4893            6.2              0.21         0.29             1.6      0.039   \n",
       "4894            6.6              0.32         0.36             8.0      0.047   \n",
       "4895            6.5              0.24         0.19             1.2      0.041   \n",
       "4896            5.5              0.29         0.30             1.1      0.022   \n",
       "4897            6.0              0.21         0.38             0.8      0.020   \n",
       "\n",
       "      free sulfur dioxide  total sulfur dioxide  density    pH  sulphates  \\\n",
       "0                    45.0                 170.0  1.00100  3.00       0.45   \n",
       "1                    14.0                 132.0  0.99400  3.30       0.49   \n",
       "2                    30.0                  97.0  0.99510  3.26       0.44   \n",
       "3                    47.0                 186.0  0.99560  3.19       0.40   \n",
       "4                    47.0                 186.0  0.99560  3.19       0.40   \n",
       "...                   ...                   ...      ...   ...        ...   \n",
       "4893                 24.0                  92.0  0.99114  3.27       0.50   \n",
       "4894                 57.0                 168.0  0.99490  3.15       0.46   \n",
       "4895                 30.0                 111.0  0.99254  2.99       0.46   \n",
       "4896                 20.0                 110.0  0.98869  3.34       0.38   \n",
       "4897                 22.0                  98.0  0.98941  3.26       0.32   \n",
       "\n",
       "      alcohol  quality  \n",
       "0         8.8        6  \n",
       "1         9.5        6  \n",
       "2        10.1        6  \n",
       "3         9.9        6  \n",
       "4         9.9        6  \n",
       "...       ...      ...  \n",
       "4893     11.2        6  \n",
       "4894      9.6        5  \n",
       "4895      9.4        6  \n",
       "4896     12.8        7  \n",
       "4897     11.8        6  \n",
       "\n",
       "[4898 rows x 12 columns]"
      ]
     },
     "execution_count": 2,
     "metadata": {},
     "output_type": "execute_result"
    }
   ],
   "source": [
    "# Load the Dataset\n",
    "\n",
    "data = pd.read_csv(\"F:/My_Design/Data_Science/Data Science/Data Science Notes/MLOPS/MLFLOW/MLFlow_Starter/2-DLProject/winequality-white.csv\", sep=\";\")\n",
    "data"
   ]
  },
  {
   "cell_type": "code",
   "execution_count": 3,
   "id": "39f4f19c",
   "metadata": {},
   "outputs": [],
   "source": [
    "## Split the data into training validation and test sets\n",
    "\n",
    "train,test = train_test_split(data,test_size=0.2,random_state=42)"
   ]
  },
  {
   "cell_type": "code",
   "execution_count": 4,
   "id": "65c19627",
   "metadata": {},
   "outputs": [
    {
     "data": {
      "text/plain": [
       "((3918, 12), (980, 12))"
      ]
     },
     "execution_count": 4,
     "metadata": {},
     "output_type": "execute_result"
    }
   ],
   "source": [
    "train.shape,test.shape"
   ]
  },
  {
   "cell_type": "code",
   "execution_count": 13,
   "id": "bdaa0c7e",
   "metadata": {},
   "outputs": [],
   "source": [
    "train_x = train.drop(columns = ['quality'], axis=1)\n",
    "train_y = train['quality']"
   ]
  },
  {
   "cell_type": "code",
   "execution_count": 14,
   "id": "6fcecf66",
   "metadata": {},
   "outputs": [
    {
     "data": {
      "text/plain": [
       "((3918, 11), (3918,))"
      ]
     },
     "execution_count": 14,
     "metadata": {},
     "output_type": "execute_result"
    }
   ],
   "source": [
    "train_x.shape, train_y.shape"
   ]
  },
  {
   "cell_type": "code",
   "execution_count": null,
   "id": "5d0bd3df",
   "metadata": {},
   "outputs": [],
   "source": [
    "# Test data\n",
    "test_x = test.drop(columns=['quality'],axis=1)\n",
    "test_y = test['quality']"
   ]
  },
  {
   "cell_type": "code",
   "execution_count": 16,
   "id": "66aa879a",
   "metadata": {},
   "outputs": [
    {
     "data": {
      "text/plain": [
       "((980, 11), (980,))"
      ]
     },
     "execution_count": 16,
     "metadata": {},
     "output_type": "execute_result"
    }
   ],
   "source": [
    "test_x.shape, test_y.shape"
   ]
  },
  {
   "cell_type": "code",
   "execution_count": 19,
   "id": "157f272b",
   "metadata": {},
   "outputs": [
    {
     "name": "stderr",
     "output_type": "stream",
     "text": [
      "f:\\My_Design\\Data_Science\\Data Science\\Data Science Notes\\MLOPS\\MLFLOW\\MLFlow_Starter\\.venv\\Lib\\site-packages\\mlflow\\types\\utils.py:452: UserWarning: Hint: Inferred schema contains integer column(s). Integer columns in Python cannot represent missing values. If your input data contains missing values at inference time, it will be encoded as floats and will cause a schema enforcement error. The best way to avoid this problem is to infer the model schema based on a realistic data sample (training dataset) that includes missing values. Alternatively, you can declare integer columns as doubles (float64) whenever these columns may have missing values. See `Handling Integers With Missing Values <https://www.mlflow.org/docs/latest/models.html#handling-integers-with-missing-values>`_ for more details.\n",
      "  warnings.warn(\n"
     ]
    }
   ],
   "source": [
    "# Spliting the train data into train train and validation\n",
    "X_train, X_val, y_train, y_val = train_test_split(train_x,train_y,test_size=0.2,random_state=42)\n",
    "\n",
    "signature = infer_signature(X_train,y_train)"
   ]
  },
  {
   "cell_type": "code",
   "execution_count": 25,
   "id": "4cd0d89b",
   "metadata": {},
   "outputs": [
    {
     "data": {
      "application/vnd.microsoft.datawrangler.viewer.v0+json": {
       "columns": [
        {
         "name": "index",
         "rawType": "object",
         "type": "string"
        },
        {
         "name": "0",
         "rawType": "float64",
         "type": "float"
        }
       ],
       "ref": "a087821e-4999-464f-830d-2f645ec770a6",
       "rows": [
        [
         "fixed acidity",
         "6.870867900446713"
        ],
        [
         "volatile acidity",
         "0.27789087428206766"
        ],
        [
         "citric acid",
         "0.3338544990427568"
        ],
        [
         "residual sugar",
         "6.36080089342693"
        ],
        [
         "chlorides",
         "0.04551052967453733"
        ],
        [
         "free sulfur dioxide",
         "34.908264199106576"
        ],
        [
         "total sulfur dioxide",
         "137.556636885769"
        ],
        [
         "density",
         "0.9940296825143586"
        ],
        [
         "pH",
         "3.190417996171027"
        ],
        [
         "sulphates",
         "0.48972239948947033"
        ],
        [
         "alcohol",
         "10.520333971495427"
        ]
       ],
       "shape": {
        "columns": 1,
        "rows": 11
       }
      },
      "text/plain": [
       "fixed acidity             6.870868\n",
       "volatile acidity          0.277891\n",
       "citric acid               0.333854\n",
       "residual sugar            6.360801\n",
       "chlorides                 0.045511\n",
       "free sulfur dioxide      34.908264\n",
       "total sulfur dioxide    137.556637\n",
       "density                   0.994030\n",
       "pH                        3.190418\n",
       "sulphates                 0.489722\n",
       "alcohol                  10.520334\n",
       "dtype: float64"
      ]
     },
     "execution_count": 25,
     "metadata": {},
     "output_type": "execute_result"
    }
   ],
   "source": [
    "np.mean(X_train,axis=0)"
   ]
  },
  {
   "cell_type": "code",
   "execution_count": 27,
   "id": "193e3080",
   "metadata": {},
   "outputs": [
    {
     "data": {
      "text/plain": [
       "<KerasTensor shape=(None, 11), dtype=float32, sparse=False, ragged=False, name=keras_tensor>"
      ]
     },
     "execution_count": 27,
     "metadata": {},
     "output_type": "execute_result"
    }
   ],
   "source": [
    "keras.Input([X_train.shape[1]])"
   ]
  },
  {
   "cell_type": "code",
   "execution_count": null,
   "id": "175bcdd0",
   "metadata": {},
   "outputs": [],
   "source": [
    "## Creating ANN Model\n",
    "\n",
    "def train_model(params,epochs,X_train,y_train,X_val,y_val,test_x,test_y):\n",
    "\n",
    "    ## Define the model architecture\n",
    "    mean = np.mean(X_train,axis=0)\n",
    "    var = np.var(X_train,axis=0)\n",
    "\n",
    "    model = keras.Sequential(\n",
    "        [\n",
    "            keras.Input([X_train.shape[1]],name='Input_Layer'),\n",
    "            keras.layers.Normalization(mean=mean,var=var),\n",
    "            keras.layers.Dense(64,activation='relu'),\n",
    "            keras.layers.Dense(1)\n",
    "        ]\n",
    "    )\n",
    "\n",
    "\n",
    "    ## Compile the model\n",
    "\n",
    "    model.compile(optimizer=keras.optimizers.SGD(\n",
    "        learning_rate=params['lr'],\n",
    "        momentum=params['momentum']\n",
    "    ),\n",
    "    loss='mean_absolute_error',\n",
    "    metrics=[keras.metrics.RootMeanSquaredError()]\n",
    "    )\n",
    "\n",
    "\n",
    "    ## Train the ANN model with lr and momentum params with MLflow tracking\n",
    "\n",
    "    with mlflow.start_run(nested=True):\n",
    "        model.fit(X_train,y_train,validation_data=(X_val,y_val),epochs=epochs,batch_size=32,verbose=0)\n",
    "\n",
    "    ## Evaluate the model on test data\n",
    "        eval_result=model.evaluate(X_val,y_val,batch_size=32,verbose=0)\n",
    "        eval_rsme=eval_result[1]\n",
    "\n",
    "    ## Log the model parameters and results\n",
    "        mlflow.log_params(params)\n",
    "        mlflow.log_metric(\"val_rmse\",eval_rsme)\n",
    "        mlflow.keras.log_model(model,\"model\",signature=signature)\n",
    "\n"
   ]
  },
  {
   "cell_type": "code",
   "execution_count": null,
   "id": "051d92e4",
   "metadata": {},
   "outputs": [],
   "source": []
  }
 ],
 "metadata": {
  "kernelspec": {
   "display_name": ".venv (3.11.2)",
   "language": "python",
   "name": "python3"
  },
  "language_info": {
   "codemirror_mode": {
    "name": "ipython",
    "version": 3
   },
   "file_extension": ".py",
   "mimetype": "text/x-python",
   "name": "python",
   "nbconvert_exporter": "python",
   "pygments_lexer": "ipython3",
   "version": "3.11.2"
  }
 },
 "nbformat": 4,
 "nbformat_minor": 5
}
